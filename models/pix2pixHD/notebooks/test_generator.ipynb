{
 "cells": [
  {
   "cell_type": "code",
   "execution_count": 4,
   "id": "initial_id",
   "metadata": {
    "collapsed": true,
    "ExecuteTime": {
     "end_time": "2023-10-22T13:55:19.904727Z",
     "start_time": "2023-10-22T13:55:19.896019400Z"
    }
   },
   "outputs": [],
   "source": [
    "from models.pix2pixHD.networks import GlobalGenerator\n",
    "from PIL import Image\n",
    "import torchvision.transforms as transforms"
   ]
  },
  {
   "cell_type": "code",
   "execution_count": 6,
   "outputs": [
    {
     "data": {
      "text/plain": "torch.Size([1, 3, 1024, 2048])"
     },
     "execution_count": 6,
     "metadata": {},
     "output_type": "execute_result"
    }
   ],
   "source": [
    "g = GlobalGenerator(3, 3, 64, 3)\n",
    "\n",
    "image = Image.open('../../../data/train_img/aachen_000000_000019_leftImg8bit.png')\n",
    "\n",
    "transform = transforms.Compose([\n",
    "    transforms.PILToTensor()\n",
    "])\n",
    "\n",
    "img_tensor = transform(image).unsqueeze(0)\n",
    "\n",
    "g(img_tensor.float()).shape"
   ],
   "metadata": {
    "collapsed": false,
    "ExecuteTime": {
     "end_time": "2023-10-22T13:55:56.188721Z",
     "start_time": "2023-10-22T13:55:31.666831700Z"
    }
   },
   "id": "f48a868841c5325d"
  }
 ],
 "metadata": {
  "kernelspec": {
   "display_name": "Python 3",
   "language": "python",
   "name": "python3"
  },
  "language_info": {
   "codemirror_mode": {
    "name": "ipython",
    "version": 2
   },
   "file_extension": ".py",
   "mimetype": "text/x-python",
   "name": "python",
   "nbconvert_exporter": "python",
   "pygments_lexer": "ipython2",
   "version": "2.7.6"
  }
 },
 "nbformat": 4,
 "nbformat_minor": 5
}
